{
 "cells": [
  {
   "cell_type": "markdown",
   "id": "d3d7309a-5e65-4556-91a6-654e0250a2a1",
   "metadata": {},
   "source": [
    "## SAR data used\n",
    "\n",
    "### ALOS-2\n",
    "\n",
    "+ Analysis by GSI: https://www.gsi.go.jp/cais/topic20230206-e_Turkey.html\n",
    "+ Data Info from JAXA: https://www.eorc.jaxa.jp/ALOS/en/dataset/alos_open_and_free_e.htm\n",
    "+ Data Search and Download: https://gportal.jaxa.jp/gpr/\n",
    "+ ARIA from JPL-Caltech: https://aria-share.jpl.nasa.gov/20230206_Turkey_EQ/Displacements/ALOS2"
   ]
  },
  {
   "cell_type": "code",
   "execution_count": 2,
   "id": "9e42be44-a4a2-4826-9d3f-9c37a2312cc5",
   "metadata": {},
   "outputs": [],
   "source": [
    "%matplotlib inline\n",
    "import os\n",
    "\n",
    "data_list = [\n",
    "    #   sensor      mode         pass  track     frame     date1         date2       time\n",
    "    ['Sentinel-1', 'TOPS'     , 'ASC',  14,   None,      '2023-01-28', '2023-02-09', '15:34'],    # S1_A014_20230128_20230209 [done]\n",
    "    ['Sentinel-1', 'TOPS'     , 'DSC',  21,   None,      '2023-01-29', '2023-02-10', '03:34'],    # S1_D021_20230129_20230210 [done]\n",
    "    ['ALOS-2'    , 'ScanSAR'  , 'ASC',  183,  750,       '2019-09-18', '2023-02-15', '21:21'],    # ALOS2_A183_20190918_20230215\n",
    "    ['ALOS-2'    , 'ScanSAR'  , 'ASC',  184,  700_750,   '2022-09-05', '2023-02-20', '21:28'],    # ALOS2_A184_20220905_20230220\n",
    "    ['ALOS-2'    , 'ScanSAR'  , 'DSC',  77,   2850_2900, '2022-09-16', '2023-02-17', '09:33'],    # ALOS2_D077_20220916_20230217\n",
    "    ['ALOS-2'    , 'Stripmap' , 'DSC',  78,   2830_2880, '2022-04-06', '2023-02-08', '09:40'],    # ALOS2_D078_20220406_20230208 [Stripmap/Fine mode; not free from JAXA; use ARIA directly]\n",
    "    ['LuTan-1'   , 'Stripmap' , 'DSC',  0,    None,      '2022-04-11', '2023-02-10', '00:00'],    # LT1_D000_20220411_20230210\n",
    "]"
   ]
  },
  {
   "cell_type": "code",
   "execution_count": null,
   "id": "33948e52-5140-4c07-8fff-5076edce7a7d",
   "metadata": {},
   "outputs": [],
   "source": []
  }
 ],
 "metadata": {
  "kernelspec": {
   "display_name": "Python 3 (ipykernel)",
   "language": "python",
   "name": "python3"
  },
  "language_info": {
   "codemirror_mode": {
    "name": "ipython",
    "version": 3
   },
   "file_extension": ".py",
   "mimetype": "text/x-python",
   "name": "python",
   "nbconvert_exporter": "python",
   "pygments_lexer": "ipython3",
   "version": "3.8.15"
  }
 },
 "nbformat": 4,
 "nbformat_minor": 5
}
