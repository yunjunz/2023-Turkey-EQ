{
 "cells": [
  {
   "cell_type": "markdown",
   "id": "d3d7309a-5e65-4556-91a6-654e0250a2a1",
   "metadata": {},
   "source": [
    "## SAR data used\n",
    "\n",
    "### Earthquakes Involved\n",
    "\n",
    "+ 2023-02-06 01:17:34 (UTC) M 7.8 earthquake ([USGS](https://earthquake.usgs.gov/earthquakes/eventpage/us6000jllz/executive))\n",
    "+ 2023-02-06 10:24:48 (UTC) M 7.5 earthquake ([USGS](https://earthquake.usgs.gov/earthquakes/eventpage/us6000jlqa/executive))\n",
    "+ 2023-02-20 17:04:29 (UTC) M 6.3 earthquake ([USGS](https://earthquake.usgs.gov/earthquakes/eventpage/us6000jqcn/executive))\n",
    "\n",
    "### ALOS-2\n",
    "\n",
    "+ Analysis by GSI: https://www.gsi.go.jp/cais/topic20230206-e_Turkey.html\n",
    "+ Data Info from JAXA: https://www.eorc.jaxa.jp/ALOS/en/dataset/alos_open_and_free_e.htm\n",
    "+ Data Search and Download: https://gportal.jaxa.jp/gpr/\n",
    "+ ARIA from JPL-Caltech: https://aria-share.jpl.nasa.gov/20230206_Turkey_EQ/Displacements/ALOS2\n",
    "\n",
    "### Sentinel-1\n",
    "\n",
    "+ ARIA Interferograms:\n",
    "  - https://grfn.asf.alaska.edu/door/download/S1-GUNW-D-R-021-tops-20230210_20230129-033440-00036E_00037N-PP-c92c-v2_0_6.nc\n",
    "  - https://grfn.asf.alaska.edu/door/download/S1-GUNW-D-R-021-tops-20230210_20230129-033504-00035E_00035N-PP-8473-v2_0_6.nc\n",
    "  - https://grfn.asf.alaska.edu/door/download/S1-GUNW-A-R-014-tops-20230209_20230116-153436-00034E_00037N-PP-3d4c-v2_0_6.nc\n",
    "  - https://grfn.asf.alaska.edu/door/download/S1-GUNW-A-R-014-tops-20230209_20230116-153411-00035E_00035N-PP-fd4d-v2_0_6.nc"
   ]
  },
  {
   "cell_type": "code",
   "execution_count": 3,
   "id": "9e42be44-a4a2-4826-9d3f-9c37a2312cc5",
   "metadata": {},
   "outputs": [],
   "source": [
    "%matplotlib inline\n",
    "import os\n",
    "import datetime as dt\n",
    "from mintpy.utils import ptime\n",
    "\n",
    "data_list = [\n",
    "    #   sensor      mode        pass  track  frame         date1         date2         time\n",
    "    # Dense fringes in the near field + snow cover --> difficult to unwrap (no unw file from ARIA too), thus, use dense offsets instead.\n",
    "    # S1_A116: data acquired at 20230216 miss one frame in ESA/ASF, thus 20230228 is used instead.\n",
    "    ['Sentinel-1', 'TOPS'    , 'ASC', '014', None,        '2023-01-28', '2023-02-09', '15:34'],\n",
    "    ['Sentinel-1', 'TOPS'    , 'ASC', '116', None,        '2023-02-04', '2023-02-28', '15:26'],\n",
    "    ['Sentinel-1', 'TOPS'    , 'DSC', '021', None,        '2023-01-29', '2023-02-10', '03:34'],\n",
    "\n",
    "    # ALOS-2, successfully unwrap after careful masking\n",
    "    # ALOS-2 local solar time: 23:40 for asc (weak iono), 11:46 for desc (strong iono)\n",
    "    ['ALOS-2'    , 'ScanSAR' , 'ASC', '184', '0700_0750', '2022-09-05', '2023-02-20', '21:28'],\n",
    "    ['ALOS-2'    , 'ScanSAR' , 'DSC', '077', '2850_2900', '2022-09-16', '2023-02-17', '09:33'],\n",
    "\n",
    "    # LT1_D000_20220411_20230210:\n",
    "    ['LuTan-1'   , 'Stripmap', 'DSC', '068', None,        '2022-04-11', '2023-02-10', '03:34'],\n",
    "\n",
    "    ## Bad\n",
    "    # [WIP] ALOS2_D078_20220406_20230208: not freely available from JAXA; use ARIA products directly\n",
    "    # To-do: find out what corrections have been applied to ARIA\n",
    "    ['ALOS-2'    , 'Stripmap', 'DSC', '078', '2830_2880', '2022-04-06', '2023-02-08', '09:40'],\n",
    "    # [WIP] ALOS2_A183_20190918_20230215: low coherence due to long temporal baseline -> difficult to unwrap\n",
    "    # To-do: try offset instead, need to mosaic the ALOS-2 ScanSAR [change isce2 code; low priority]\n",
    "    ['ALOS-2'    , 'ScanSAR' , 'ASC', '183', '0750',      '2019-09-18', '2023-02-15', '21:21'],\n",
    "]"
   ]
  },
  {
   "cell_type": "code",
   "execution_count": null,
   "id": "6da9a96d-37a6-4a08-b817-d5a919c9c294",
   "metadata": {},
   "outputs": [],
   "source": []
  }
 ],
 "metadata": {
  "kernelspec": {
   "display_name": "Python 3 (ipykernel)",
   "language": "python",
   "name": "python3"
  },
  "language_info": {
   "codemirror_mode": {
    "name": "ipython",
    "version": 3
   },
   "file_extension": ".py",
   "mimetype": "text/x-python",
   "name": "python",
   "nbconvert_exporter": "python",
   "pygments_lexer": "ipython3",
   "version": "3.10.10"
  }
 },
 "nbformat": 4,
 "nbformat_minor": 5
}
